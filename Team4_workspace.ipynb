{
 "cells": [
  {
   "cell_type": "code",
   "execution_count": 1,
   "id": "405859f5-2a5e-4fe9-8355-0df21e18aeb5",
   "metadata": {},
   "outputs": [],
   "source": [
    "#cho google colab"
   ]
  },
  {
   "cell_type": "code",
   "execution_count": null,
   "id": "b52b0d1e-cc21-4561-8470-5847c811e01b",
   "metadata": {},
   "outputs": [],
   "source": []
  },
  {
   "cell_type": "code",
   "execution_count": 2,
   "id": "e2cf575b-db1b-40b5-af27-113bcd0802c5",
   "metadata": {},
   "outputs": [],
   "source": [
    "import numpy as np\n",
    "import pandas as pd\n",
    "import matplotlib.pyplot as plt\n",
    "import urllib"
   ]
  },
  {
   "cell_type": "code",
   "execution_count": 3,
   "id": "a3db57b9-6423-436d-9ea9-fc8d376212f9",
   "metadata": {},
   "outputs": [
    {
     "data": {
      "text/plain": [
       "85"
      ]
     },
     "execution_count": 3,
     "metadata": {},
     "output_type": "execute_result"
    }
   ],
   "source": [
    "new_file=open(\"car_data.txt\",mode=\"w\",encoding=\"utf-8\")\n",
    "columns = \"mpg,cylinders,displacement,horsepower,weight,acceleration,model year,origin,car name\\n\"\n",
    "new_file.write(columns)"
   ]
  },
  {
   "cell_type": "markdown",
   "id": "99233c06-69b0-4798-8eb7-a06c62239a76",
   "metadata": {},
   "source": [
    "Viết file"
   ]
  },
  {
   "cell_type": "code",
   "execution_count": 4,
   "id": "fb1f65d2-352e-41da-ab3b-93e608082a9b",
   "metadata": {},
   "outputs": [],
   "source": [
    "url = \"https://archive.ics.uci.edu/ml/machine-learning-databases/auto-mpg/auto-mpg.data\"\n",
    "file = urllib. request. urlopen(url)\n",
    "for line in file:\n",
    "    decoded_line = line.decode(\"utf-8\")\n",
    "    decoded_line = decoded_line.split('\\t')\n",
    "    decoded_line[0] = ','.join(decoded_line[0].split())\n",
    "    decoded_line[1] = decoded_line[1].strip('\\n')\n",
    "    decoded_line = ','.join(decoded_line)\n",
    "    #print(decoded_line)\n",
    "    new_file.write(decoded_line + '\\n')\n",
    "new_file.close()"
   ]
  },
  {
   "cell_type": "code",
   "execution_count": 5,
   "id": "303b1985-4ca9-411b-abf0-b6ce70d2d06e",
   "metadata": {},
   "outputs": [
    {
     "data": {
      "text/plain": [
       "(398, 9)"
      ]
     },
     "execution_count": 5,
     "metadata": {},
     "output_type": "execute_result"
    }
   ],
   "source": [
    "car_data = pd.read_csv('car_data.txt')\n",
    "car_data.shape"
   ]
  },
  {
   "cell_type": "code",
   "execution_count": 6,
   "id": "5fb27de5-1cad-4579-a248-1686762a6be6",
   "metadata": {},
   "outputs": [
    {
     "data": {
      "text/plain": [
       "mpg             0\n",
       "cylinders       0\n",
       "displacement    0\n",
       "horsepower      6\n",
       "weight          0\n",
       "acceleration    0\n",
       "model year      0\n",
       "origin          0\n",
       "car name        0\n",
       "dtype: int64"
      ]
     },
     "execution_count": 6,
     "metadata": {},
     "output_type": "execute_result"
    }
   ],
   "source": [
    "car_data = car_data.replace('?',np.NaN)\n",
    "car_data.isna().sum()"
   ]
  },
  {
   "cell_type": "code",
   "execution_count": 7,
   "id": "f2be6ae3-b349-453e-90f7-3bfce8472e66",
   "metadata": {},
   "outputs": [
    {
     "data": {
      "text/plain": [
       "mpg             float64\n",
       "cylinders         int64\n",
       "displacement    float64\n",
       "horsepower       object\n",
       "weight          float64\n",
       "acceleration    float64\n",
       "model year        int64\n",
       "origin            int64\n",
       "car name         object\n",
       "dtype: object"
      ]
     },
     "execution_count": 7,
     "metadata": {},
     "output_type": "execute_result"
    }
   ],
   "source": [
    "car_data.dtypes"
   ]
  },
  {
   "cell_type": "code",
   "execution_count": 8,
   "id": "dee6ae6f-5504-4d1b-a077-16b8203ea891",
   "metadata": {},
   "outputs": [],
   "source": [
    "car_data[['cylinders','model year','origin']] = car_data[['cylinders','model year','origin']].astype('category')"
   ]
  },
  {
   "cell_type": "code",
   "execution_count": 9,
   "id": "41884fae-b1b7-4a4a-b560-d68515178db2",
   "metadata": {},
   "outputs": [
    {
     "data": {
      "text/html": [
       "<div>\n",
       "<style scoped>\n",
       "    .dataframe tbody tr th:only-of-type {\n",
       "        vertical-align: middle;\n",
       "    }\n",
       "\n",
       "    .dataframe tbody tr th {\n",
       "        vertical-align: top;\n",
       "    }\n",
       "\n",
       "    .dataframe thead th {\n",
       "        text-align: right;\n",
       "    }\n",
       "</style>\n",
       "<table border=\"1\" class=\"dataframe\">\n",
       "  <thead>\n",
       "    <tr style=\"text-align: right;\">\n",
       "      <th></th>\n",
       "      <th>mpg</th>\n",
       "      <th>cylinders</th>\n",
       "      <th>displacement</th>\n",
       "      <th>horsepower</th>\n",
       "      <th>weight</th>\n",
       "      <th>acceleration</th>\n",
       "      <th>model year</th>\n",
       "      <th>origin</th>\n",
       "      <th>car name</th>\n",
       "    </tr>\n",
       "  </thead>\n",
       "  <tbody>\n",
       "    <tr>\n",
       "      <th>0</th>\n",
       "      <td>18.0</td>\n",
       "      <td>8</td>\n",
       "      <td>307.0</td>\n",
       "      <td>130.0</td>\n",
       "      <td>3504.0</td>\n",
       "      <td>12.0</td>\n",
       "      <td>70</td>\n",
       "      <td>1</td>\n",
       "      <td>chevrolet chevelle malibu</td>\n",
       "    </tr>\n",
       "    <tr>\n",
       "      <th>1</th>\n",
       "      <td>15.0</td>\n",
       "      <td>8</td>\n",
       "      <td>350.0</td>\n",
       "      <td>165.0</td>\n",
       "      <td>3693.0</td>\n",
       "      <td>11.5</td>\n",
       "      <td>70</td>\n",
       "      <td>1</td>\n",
       "      <td>buick skylark 320</td>\n",
       "    </tr>\n",
       "    <tr>\n",
       "      <th>2</th>\n",
       "      <td>18.0</td>\n",
       "      <td>8</td>\n",
       "      <td>318.0</td>\n",
       "      <td>150.0</td>\n",
       "      <td>3436.0</td>\n",
       "      <td>11.0</td>\n",
       "      <td>70</td>\n",
       "      <td>1</td>\n",
       "      <td>plymouth satellite</td>\n",
       "    </tr>\n",
       "    <tr>\n",
       "      <th>3</th>\n",
       "      <td>16.0</td>\n",
       "      <td>8</td>\n",
       "      <td>304.0</td>\n",
       "      <td>150.0</td>\n",
       "      <td>3433.0</td>\n",
       "      <td>12.0</td>\n",
       "      <td>70</td>\n",
       "      <td>1</td>\n",
       "      <td>amc rebel sst</td>\n",
       "    </tr>\n",
       "    <tr>\n",
       "      <th>4</th>\n",
       "      <td>17.0</td>\n",
       "      <td>8</td>\n",
       "      <td>302.0</td>\n",
       "      <td>140.0</td>\n",
       "      <td>3449.0</td>\n",
       "      <td>10.5</td>\n",
       "      <td>70</td>\n",
       "      <td>1</td>\n",
       "      <td>ford torino</td>\n",
       "    </tr>\n",
       "  </tbody>\n",
       "</table>\n",
       "</div>"
      ],
      "text/plain": [
       "    mpg cylinders  displacement horsepower  weight  acceleration model year  \\\n",
       "0  18.0         8         307.0      130.0  3504.0          12.0         70   \n",
       "1  15.0         8         350.0      165.0  3693.0          11.5         70   \n",
       "2  18.0         8         318.0      150.0  3436.0          11.0         70   \n",
       "3  16.0         8         304.0      150.0  3433.0          12.0         70   \n",
       "4  17.0         8         302.0      140.0  3449.0          10.5         70   \n",
       "\n",
       "  origin                   car name  \n",
       "0      1  chevrolet chevelle malibu  \n",
       "1      1          buick skylark 320  \n",
       "2      1         plymouth satellite  \n",
       "3      1              amc rebel sst  \n",
       "4      1                ford torino  "
      ]
     },
     "execution_count": 9,
     "metadata": {},
     "output_type": "execute_result"
    }
   ],
   "source": [
    "car_data.head()"
   ]
  },
  {
   "cell_type": "code",
   "execution_count": 10,
   "id": "ad5159cc-3e3e-4f13-ba2e-5f8b7ddcffa7",
   "metadata": {},
   "outputs": [
    {
     "data": {
      "text/html": [
       "<div>\n",
       "<style scoped>\n",
       "    .dataframe tbody tr th:only-of-type {\n",
       "        vertical-align: middle;\n",
       "    }\n",
       "\n",
       "    .dataframe tbody tr th {\n",
       "        vertical-align: top;\n",
       "    }\n",
       "\n",
       "    .dataframe thead th {\n",
       "        text-align: right;\n",
       "    }\n",
       "</style>\n",
       "<table border=\"1\" class=\"dataframe\">\n",
       "  <thead>\n",
       "    <tr style=\"text-align: right;\">\n",
       "      <th></th>\n",
       "      <th>mpg</th>\n",
       "      <th>cylinders</th>\n",
       "      <th>displacement</th>\n",
       "      <th>horsepower</th>\n",
       "      <th>weight</th>\n",
       "      <th>acceleration</th>\n",
       "      <th>model year</th>\n",
       "      <th>origin</th>\n",
       "      <th>car name</th>\n",
       "    </tr>\n",
       "  </thead>\n",
       "  <tbody>\n",
       "    <tr>\n",
       "      <th>322</th>\n",
       "      <td>46.6</td>\n",
       "      <td>4</td>\n",
       "      <td>86.0</td>\n",
       "      <td>65.00</td>\n",
       "      <td>2110.0</td>\n",
       "      <td>17.9</td>\n",
       "      <td>80</td>\n",
       "      <td>3</td>\n",
       "      <td>mazda glc</td>\n",
       "    </tr>\n",
       "  </tbody>\n",
       "</table>\n",
       "</div>"
      ],
      "text/plain": [
       "      mpg cylinders  displacement horsepower  weight  acceleration model year  \\\n",
       "322  46.6         4          86.0      65.00  2110.0          17.9         80   \n",
       "\n",
       "    origin   car name  \n",
       "322      3  mazda glc  "
      ]
     },
     "execution_count": 10,
     "metadata": {},
     "output_type": "execute_result"
    }
   ],
   "source": [
    "car_data[car_data[\"mpg\"] == max(car_data[\"mpg\"])]  "
   ]
  },
  {
   "cell_type": "code",
   "execution_count": 11,
   "id": "0608ded1-b1e0-40ee-aa6c-2d5f87910657",
   "metadata": {},
   "outputs": [
    {
     "data": {
      "text/plain": [
       "[1, 3, 2]\n",
       "Categories (3, int64): [1, 3, 2]"
      ]
     },
     "execution_count": 11,
     "metadata": {},
     "output_type": "execute_result"
    }
   ],
   "source": [
    "car_data[\"origin\"].unique()"
   ]
  },
  {
   "cell_type": "code",
   "execution_count": 12,
   "id": "e2f5778d-aad6-4d60-8dff-dacf5b462505",
   "metadata": {},
   "outputs": [
    {
     "data": {
      "text/html": [
       "<div>\n",
       "<style scoped>\n",
       "    .dataframe tbody tr th:only-of-type {\n",
       "        vertical-align: middle;\n",
       "    }\n",
       "\n",
       "    .dataframe tbody tr th {\n",
       "        vertical-align: top;\n",
       "    }\n",
       "\n",
       "    .dataframe thead th {\n",
       "        text-align: right;\n",
       "    }\n",
       "</style>\n",
       "<table border=\"1\" class=\"dataframe\">\n",
       "  <thead>\n",
       "    <tr style=\"text-align: right;\">\n",
       "      <th></th>\n",
       "      <th>mpg</th>\n",
       "      <th>displacement</th>\n",
       "      <th>weight</th>\n",
       "      <th>acceleration</th>\n",
       "    </tr>\n",
       "  </thead>\n",
       "  <tbody>\n",
       "    <tr>\n",
       "      <th>count</th>\n",
       "      <td>398.00</td>\n",
       "      <td>398.00</td>\n",
       "      <td>398.00</td>\n",
       "      <td>398.00</td>\n",
       "    </tr>\n",
       "    <tr>\n",
       "      <th>mean</th>\n",
       "      <td>23.51</td>\n",
       "      <td>193.43</td>\n",
       "      <td>2970.42</td>\n",
       "      <td>15.57</td>\n",
       "    </tr>\n",
       "    <tr>\n",
       "      <th>std</th>\n",
       "      <td>7.82</td>\n",
       "      <td>104.27</td>\n",
       "      <td>846.84</td>\n",
       "      <td>2.76</td>\n",
       "    </tr>\n",
       "    <tr>\n",
       "      <th>min</th>\n",
       "      <td>9.00</td>\n",
       "      <td>68.00</td>\n",
       "      <td>1613.00</td>\n",
       "      <td>8.00</td>\n",
       "    </tr>\n",
       "    <tr>\n",
       "      <th>25%</th>\n",
       "      <td>17.50</td>\n",
       "      <td>104.25</td>\n",
       "      <td>2223.75</td>\n",
       "      <td>13.82</td>\n",
       "    </tr>\n",
       "    <tr>\n",
       "      <th>50%</th>\n",
       "      <td>23.00</td>\n",
       "      <td>148.50</td>\n",
       "      <td>2803.50</td>\n",
       "      <td>15.50</td>\n",
       "    </tr>\n",
       "    <tr>\n",
       "      <th>75%</th>\n",
       "      <td>29.00</td>\n",
       "      <td>262.00</td>\n",
       "      <td>3608.00</td>\n",
       "      <td>17.17</td>\n",
       "    </tr>\n",
       "    <tr>\n",
       "      <th>max</th>\n",
       "      <td>46.60</td>\n",
       "      <td>455.00</td>\n",
       "      <td>5140.00</td>\n",
       "      <td>24.80</td>\n",
       "    </tr>\n",
       "  </tbody>\n",
       "</table>\n",
       "</div>"
      ],
      "text/plain": [
       "          mpg  displacement   weight  acceleration\n",
       "count  398.00        398.00   398.00        398.00\n",
       "mean    23.51        193.43  2970.42         15.57\n",
       "std      7.82        104.27   846.84          2.76\n",
       "min      9.00         68.00  1613.00          8.00\n",
       "25%     17.50        104.25  2223.75         13.82\n",
       "50%     23.00        148.50  2803.50         15.50\n",
       "75%     29.00        262.00  3608.00         17.17\n",
       "max     46.60        455.00  5140.00         24.80"
      ]
     },
     "execution_count": 12,
     "metadata": {},
     "output_type": "execute_result"
    }
   ],
   "source": [
    "car_data.describe().round(2)"
   ]
  },
  {
   "cell_type": "code",
   "execution_count": 13,
   "id": "c69e7375-5c43-49ea-acce-fea45738b102",
   "metadata": {},
   "outputs": [
    {
     "data": {
      "text/plain": [
       "23.514572864321615"
      ]
     },
     "execution_count": 13,
     "metadata": {},
     "output_type": "execute_result"
    }
   ],
   "source": [
    "car_data['mpg'].mean()"
   ]
  },
  {
   "cell_type": "code",
   "execution_count": 14,
   "id": "e5880015-6451-43b8-9895-ca9b76cf214c",
   "metadata": {},
   "outputs": [],
   "source": [
    "horsepower_df = car_data.loc[:,['horsepower']]\n",
    "mean = car_data[['horsepower']].loc[~(car_data['horsepower'].isna())]['horsepower'].astype('float64').mean()\n",
    "horsepower_df['horsepower'].loc[horsepower_df['horsepower'].isna()] = mean\n",
    "horsepower_df['horsepower']= horsepower_df['horsepower'].astype('float64')"
   ]
  },
  {
   "cell_type": "code",
   "execution_count": 15,
   "id": "c5b68e1f-dd9f-46de-96f6-249d4f684371",
   "metadata": {},
   "outputs": [],
   "source": [
    "\n",
    "#car_data['horsepower'].loc[(car_data['horsepower'].isna())] = car_data[['horsepower']].loc[~(car_data['horsepower'].isna())]['horsepower'].astype('float64').mean()\n"
   ]
  },
  {
   "cell_type": "code",
   "execution_count": 16,
   "id": "7ce99986-5b63-4bd8-ae67-9f177b81ab33",
   "metadata": {},
   "outputs": [
    {
     "data": {
      "text/plain": [
       "<function matplotlib.pyplot.show(close=None, block=None)>"
      ]
     },
     "execution_count": 16,
     "metadata": {},
     "output_type": "execute_result"
    },
    {
     "data": {
      "image/png": "[encoded data removed]",
      "text/plain": [
       "<Figure size 936x936 with 9 Axes>"
      ]
     },
     "metadata": {
      "needs_background": "light"
     },
     "output_type": "display_data"
    }
   ],
   "source": [
    "fig, axs = plt.subplots(3, 3, figsize=(13, 13))\n",
    "axs[0, 0].hist(car_data[\"mpg\"])\n",
    "\n",
    "bins = np.arange(3,10) - 0.5\n",
    "axs[0, 1].hist(car_data[\"cylinders\"].astype('int64'),bins)\n",
    "\n",
    "axs[0, 2].hist(car_data[\"displacement\"].astype('int64'))\n",
    "\n",
    "axs[1, 0].hist(horsepower_df['horsepower'])\n",
    "\n",
    "axs[1, 1].hist(car_data['weight'])\n",
    "\n",
    "axs[1, 2].hist(car_data['acceleration'])\n",
    "\n",
    "axs[2, 0].hist(car_data['model year'])\n",
    "\n",
    "bins = np.arange(2,5) - 1\n",
    "axs[2, 1].hist(car_data['origin'].astype('int64'))\n",
    "\n",
    "axs[2, 2].axis('off')\n",
    "plt.show"
   ]
  },
  {
   "cell_type": "code",
   "execution_count": 17,
   "id": "2948c99e-1dae-4ce0-b669-8488c3c250a4",
   "metadata": {},
   "outputs": [
    {
     "data": {
      "image/png": "[encoded data removed]",
      "text/plain": [
       "<Figure size 1080x648 with 1 Axes>"
      ]
     },
     "metadata": {
      "needs_background": "light"
     },
     "output_type": "display_data"
    }
   ],
   "source": [
    "plt.figure(figsize = (15,9))\n",
    "plt.scatter('weight', 'mpg', data=car_data)\n",
    "plt.xlabel('weight')\n",
    "plt.ylabel('mpg')\n",
    "plt.grid()\n",
    "plt.show()"
   ]
  },
  {
   "cell_type": "code",
   "execution_count": 18,
   "id": "590f3b36-0dde-432b-9919-dce441fa6c5b",
   "metadata": {},
   "outputs": [
    {
     "data": {
      "image/png": "[encoded data removed]",
      "text/plain": [
       "<Figure size 432x288 with 1 Axes>"
      ]
     },
     "metadata": {
      "needs_background": "light"
     },
     "output_type": "display_data"
    }
   ],
   "source": [
    "plt.scatter('model year' , 'cylinders', data=car_data)\n",
    "plt.xlabel('model year')\n",
    "plt.ylabel('cylinders')\n",
    "plt.xticks(np.arange(min(car_data['model year']), max(car_data['model year'])+1, 1.0)) \n",
    "\n",
    "plt.show()"
   ]
  },
  {
   "cell_type": "code",
   "execution_count": 19,
   "id": "6fd6d19f-0c13-46fa-a2b9-4ffe5011e74e",
   "metadata": {},
   "outputs": [],
   "source": [
    "companies = car_data[['model year','origin','car name']]\n",
    "b = companies.groupby(['origin','model year']).agg('count')"
   ]
  },
  {
   "cell_type": "code",
   "execution_count": 20,
   "id": "213f465e-3170-4c9c-842e-ff67829780a2",
   "metadata": {},
   "outputs": [],
   "source": [
    "idx = b.index.levels\n",
    "c = len(idx[1])\n",
    "companies_years = pd.DataFrame(b.values.reshape(-1,c),index=idx[0].values, columns=idx[1].values)"
   ]
  },
  {
   "cell_type": "code",
   "execution_count": 21,
   "id": "afbb8849-3dff-4435-8d17-ee8b120795ef",
   "metadata": {},
   "outputs": [
    {
     "data": {
      "text/plain": [
       "CategoricalIndex([1, 2, 3], categories=[1, 2, 3], ordered=False, dtype='category')"
      ]
     },
     "execution_count": 21,
     "metadata": {},
     "output_type": "execute_result"
    }
   ],
   "source": [
    "companies_years.index"
   ]
  },
  {
   "cell_type": "code",
   "execution_count": 22,
   "id": "b5635d0f-3cb4-4407-8f74-51e60f67893d",
   "metadata": {},
   "outputs": [
    {
     "data": {
      "text/html": [
       "<div>\n",
       "<style scoped>\n",
       "    .dataframe tbody tr th:only-of-type {\n",
       "        vertical-align: middle;\n",
       "    }\n",
       "\n",
       "    .dataframe tbody tr th {\n",
       "        vertical-align: top;\n",
       "    }\n",
       "\n",
       "    .dataframe thead th {\n",
       "        text-align: right;\n",
       "    }\n",
       "</style>\n",
       "<table border=\"1\" class=\"dataframe\">\n",
       "  <thead>\n",
       "    <tr style=\"text-align: right;\">\n",
       "      <th></th>\n",
       "      <th>70</th>\n",
       "      <th>71</th>\n",
       "      <th>72</th>\n",
       "      <th>73</th>\n",
       "      <th>74</th>\n",
       "      <th>75</th>\n",
       "      <th>76</th>\n",
       "      <th>77</th>\n",
       "      <th>78</th>\n",
       "      <th>79</th>\n",
       "      <th>80</th>\n",
       "      <th>81</th>\n",
       "      <th>82</th>\n",
       "    </tr>\n",
       "  </thead>\n",
       "  <tbody>\n",
       "    <tr>\n",
       "      <th>1</th>\n",
       "      <td>22</td>\n",
       "      <td>20</td>\n",
       "      <td>18</td>\n",
       "      <td>29</td>\n",
       "      <td>15</td>\n",
       "      <td>20</td>\n",
       "      <td>22</td>\n",
       "      <td>18</td>\n",
       "      <td>22</td>\n",
       "      <td>23</td>\n",
       "      <td>7</td>\n",
       "      <td>13</td>\n",
       "      <td>20</td>\n",
       "    </tr>\n",
       "  </tbody>\n",
       "</table>\n",
       "</div>"
      ],
      "text/plain": [
       "   70  71  72  73  74  75  76  77  78  79  80  81  82\n",
       "1  22  20  18  29  15  20  22  18  22  23   7  13  20"
      ]
     },
     "execution_count": 22,
     "metadata": {},
     "output_type": "execute_result"
    }
   ],
   "source": [
    "companies_years.iloc[[0]]"
   ]
  },
  {
   "cell_type": "code",
   "execution_count": 23,
   "id": "a87b0679-dcf2-4cf1-b7be-47d896d2fd32",
   "metadata": {},
   "outputs": [
    {
     "data": {
      "text/plain": [
       "array([70, 71, 72, 73, 74, 75, 76, 77, 78, 79, 80, 81, 82])"
      ]
     },
     "execution_count": 23,
     "metadata": {},
     "output_type": "execute_result"
    }
   ],
   "source": [
    "np.arange(min(companies_years.columns.values), max(companies_years.columns.values)+1, 1)"
   ]
  },
  {
   "cell_type": "code",
   "execution_count": 37,
   "id": "badfef51-bc3b-4dc5-b9d5-f4ea78eb1c44",
   "metadata": {},
   "outputs": [
    {
     "data": {
      "image/png": "[encoded data removed]",
      "text/plain": [
       "<Figure size 1080x648 with 1 Axes>"
      ]
     },
     "metadata": {
      "needs_background": "light"
     },
     "output_type": "display_data"
    }
   ],
   "source": [
    "plt.figure(figsize = (15,9))\n",
    "sign = ['r-s','g-o', 'D-']\n",
    "plt.grid()\n",
    "plt.xticks(np.arange(min(companies_years.columns.values), max(companies_years.columns.values)+1, 1))\n",
    "for i in range(3):\n",
    "    plt.plot(companies_years.columns.values,companies_years.iloc[i],sign[i], label = i+1)\n",
    "plt.legend(loc='best')\n",
    "plt.show()"
   ]
  },
  {
   "cell_type": "code",
   "execution_count": 39,
   "id": "01aad760-35a5-4cbe-864a-060639ebe5be",
   "metadata": {},
   "outputs": [
    {
     "data": {
      "text/html": [
       "<div>\n",
       "<style scoped>\n",
       "    .dataframe tbody tr th:only-of-type {\n",
       "        vertical-align: middle;\n",
       "    }\n",
       "\n",
       "    .dataframe tbody tr th {\n",
       "        vertical-align: top;\n",
       "    }\n",
       "\n",
       "    .dataframe thead th {\n",
       "        text-align: right;\n",
       "    }\n",
       "</style>\n",
       "<table border=\"1\" class=\"dataframe\">\n",
       "  <thead>\n",
       "    <tr style=\"text-align: right;\">\n",
       "      <th></th>\n",
       "      <th>mpg</th>\n",
       "      <th>displacement</th>\n",
       "      <th>weight</th>\n",
       "      <th>acceleration</th>\n",
       "    </tr>\n",
       "  </thead>\n",
       "  <tbody>\n",
       "    <tr>\n",
       "      <th>mpg</th>\n",
       "      <td>1.000000</td>\n",
       "      <td>-0.851016</td>\n",
       "      <td>-0.836546</td>\n",
       "      <td>0.695520</td>\n",
       "    </tr>\n",
       "    <tr>\n",
       "      <th>displacement</th>\n",
       "      <td>-0.851016</td>\n",
       "      <td>1.000000</td>\n",
       "      <td>0.990773</td>\n",
       "      <td>-0.862231</td>\n",
       "    </tr>\n",
       "    <tr>\n",
       "      <th>weight</th>\n",
       "      <td>-0.836546</td>\n",
       "      <td>0.990773</td>\n",
       "      <td>1.000000</td>\n",
       "      <td>-0.841443</td>\n",
       "    </tr>\n",
       "    <tr>\n",
       "      <th>acceleration</th>\n",
       "      <td>0.695520</td>\n",
       "      <td>-0.862231</td>\n",
       "      <td>-0.841443</td>\n",
       "      <td>1.000000</td>\n",
       "    </tr>\n",
       "  </tbody>\n",
       "</table>\n",
       "</div>"
      ],
      "text/plain": [
       "                   mpg  displacement    weight  acceleration\n",
       "mpg           1.000000     -0.851016 -0.836546      0.695520\n",
       "displacement -0.851016      1.000000  0.990773     -0.862231\n",
       "weight       -0.836546      0.990773  1.000000     -0.841443\n",
       "acceleration  0.695520     -0.862231 -0.841443      1.000000"
      ]
     },
     "execution_count": 39,
     "metadata": {},
     "output_type": "execute_result"
    }
   ],
   "source": [
    "car_data.iloc[0:8].corr()"
   ]
  }
 ],
 "metadata": {
  "kernelspec": {
   "display_name": "Python 3",
   "language": "python",
   "name": "python3"
  },
  "language_info": {
   "codemirror_mode": {
    "name": "ipython",
    "version": 3
   },
   "file_extension": ".py",
   "mimetype": "text/x-python",
   "name": "python",
   "nbconvert_exporter": "python",
   "pygments_lexer": "ipython3",
   "version": "3.8.3"
  }
 },
 "nbformat": 4,
 "nbformat_minor": 5
}
