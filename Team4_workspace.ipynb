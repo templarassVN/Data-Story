{
 "cells": [
  {
   "cell_type": "code",
   "execution_count": 1,
   "id": "405859f5-2a5e-4fe9-8355-0df21e18aeb5",
   "metadata": {},
   "outputs": [],
   "source": [
    "#cho google colab"
   ]
  },
  {
   "cell_type": "code",
   "execution_count": null,
   "id": "b52b0d1e-cc21-4561-8470-5847c811e01b",
   "metadata": {},
   "outputs": [],
   "source": []
  },
  {
   "cell_type": "code",
   "execution_count": 2,
   "id": "e2cf575b-db1b-40b5-af27-113bcd0802c5",
   "metadata": {},
   "outputs": [],
   "source": [
    "import numpy as np\n",
    "import pandas as pd\n",
    "import matplotlib.pyplot as plt\n",
    "import urllib"
   ]
  },
  {
   "cell_type": "markdown",
   "id": "0ad7adf2-9e0f-40bb-adbf-79a734bbb178",
   "metadata": {},
   "source": [
    "# Lấy data"
   ]
  },
  {
   "cell_type": "code",
   "execution_count": 4,
   "id": "fb1f65d2-352e-41da-ab3b-93e608082a9b",
   "metadata": {
    "tags": []
   },
   "outputs": [],
   "source": [
    "cols = \"mpg,cylinders,displacement,horsepower,weight,acceleration,model year,origin,car name\\n\"\n",
    "new_file = open('car_data.txt','w')\n",
    "new_file.write(cols)\n",
    "\n",
    "url = \"https://archive.ics.uci.edu/ml/machine-learning-databases/auto-mpg/auto-mpg.data\"\n",
    "file = urllib. request. urlopen(url)\n",
    "for line in file:\n",
    "    decoded_line = line.decode(\"utf-8\")\n",
    "    decoded_line = decoded_line.split('\\t')\n",
    "    decoded_line[0] = ','.join(decoded_line[0].split())\n",
    "    decoded_line[1] = decoded_line[1].strip('\\n')\n",
    "    decoded_line = ','.join(decoded_line)\n",
    "    #print(decoded_line)\n",
    "    new_file.write(decoded_line + '\\n')\n",
    "new_file.close()"
   ]
  },
  {
   "cell_type": "markdown",
   "id": "65925b8d-acc9-437a-b7c0-e211921e647f",
   "metadata": {},
   "source": [
    "# Kiểm tra dữ liệu"
   ]
  },
  {
   "cell_type": "code",
   "execution_count": 5,
   "id": "303b1985-4ca9-411b-abf0-b6ce70d2d06e",
   "metadata": {},
   "outputs": [
    {
     "data": {
      "text/plain": [
       "(398, 9)"
      ]
     },
     "execution_count": 5,
     "metadata": {},
     "output_type": "execute_result"
    }
   ],
   "source": [
    "car_data = pd.read_csv('car_data.txt')\n",
    "car_data.shape"
   ]
  },
  {
   "cell_type": "code",
   "execution_count": 6,
   "id": "5fb27de5-1cad-4579-a248-1686762a6be6",
   "metadata": {},
   "outputs": [
    {
     "data": {
      "text/plain": [
       "mpg             0\n",
       "cylinders       0\n",
       "displacement    0\n",
       "horsepower      6\n",
       "weight          0\n",
       "acceleration    0\n",
       "model year      0\n",
       "origin          0\n",
       "car name        0\n",
       "dtype: int64"
      ]
     },
     "execution_count": 6,
     "metadata": {},
     "output_type": "execute_result"
    }
   ],
   "source": [
    "car_data = car_data.replace('?',np.NaN)\n",
    "car_data.isna().sum()"
   ]
  },
  {
   "cell_type": "code",
   "execution_count": 7,
   "id": "f2be6ae3-b349-453e-90f7-3bfce8472e66",
   "metadata": {},
   "outputs": [
    {
     "data": {
      "text/plain": [
       "mpg             float64\n",
       "cylinders         int64\n",
       "displacement    float64\n",
       "horsepower       object\n",
       "weight          float64\n",
       "acceleration    float64\n",
       "model year        int64\n",
       "origin            int64\n",
       "car name         object\n",
       "dtype: object"
      ]
     },
     "execution_count": 7,
     "metadata": {},
     "output_type": "execute_result"
    }
   ],
   "source": [
    "car_data.dtypes"
   ]
  },
  {
   "cell_type": "markdown",
   "id": "02fb48d3-1464-44f0-8596-784edf0a39c1",
   "metadata": {},
   "source": [
    "Điền dữ liệu thiếu bằng giá trị mean của cột"
   ]
  },
  {
   "cell_type": "code",
   "execution_count": null,
   "id": "79b55fc9-00af-4773-b250-1ee6466f810c",
   "metadata": {},
   "outputs": [],
   "source": [
    "#horsepower_df = car_data.loc[:,['horsepower']]\n",
    "mean = car_data[['horsepower']].loc[~(car_data['horsepower'].isna())]['horsepower'].astype('float64').mean()\n",
    "car_data['horsepower'].loc[car_data['horsepower'].isna()] = mean\n",
    "car_data['horsepower'] = car_data['horsepower'].astype('float64')"
   ]
  },
  {
   "cell_type": "code",
   "execution_count": 8,
   "id": "dee6ae6f-5504-4d1b-a077-16b8203ea891",
   "metadata": {},
   "outputs": [],
   "source": [
    "#car_data[['cylinders','model year','origin']] = car_data[['cylinders','model year','origin']].astype('category')"
   ]
  },
  {
   "cell_type": "code",
   "execution_count": 9,
   "id": "41884fae-b1b7-4a4a-b560-d68515178db2",
   "metadata": {},
   "outputs": [
    {
     "data": {
      "text/html": [
       "<div>\n",
       "<style scoped>\n",
       "    .dataframe tbody tr th:only-of-type {\n",
       "        vertical-align: middle;\n",
       "    }\n",
       "\n",
       "    .dataframe tbody tr th {\n",
       "        vertical-align: top;\n",
       "    }\n",
       "\n",
       "    .dataframe thead th {\n",
       "        text-align: right;\n",
       "    }\n",
       "</style>\n",
       "<table border=\"1\" class=\"dataframe\">\n",
       "  <thead>\n",
       "    <tr style=\"text-align: right;\">\n",
       "      <th></th>\n",
       "      <th>mpg</th>\n",
       "      <th>cylinders</th>\n",
       "      <th>displacement</th>\n",
       "      <th>horsepower</th>\n",
       "      <th>weight</th>\n",
       "      <th>acceleration</th>\n",
       "      <th>model year</th>\n",
       "      <th>origin</th>\n",
       "      <th>car name</th>\n",
       "    </tr>\n",
       "  </thead>\n",
       "  <tbody>\n",
       "    <tr>\n",
       "      <th>0</th>\n",
       "      <td>18.0</td>\n",
       "      <td>8</td>\n",
       "      <td>307.0</td>\n",
       "      <td>130.0</td>\n",
       "      <td>3504.0</td>\n",
       "      <td>12.0</td>\n",
       "      <td>70</td>\n",
       "      <td>1</td>\n",
       "      <td>chevrolet chevelle malibu</td>\n",
       "    </tr>\n",
       "    <tr>\n",
       "      <th>1</th>\n",
       "      <td>15.0</td>\n",
       "      <td>8</td>\n",
       "      <td>350.0</td>\n",
       "      <td>165.0</td>\n",
       "      <td>3693.0</td>\n",
       "      <td>11.5</td>\n",
       "      <td>70</td>\n",
       "      <td>1</td>\n",
       "      <td>buick skylark 320</td>\n",
       "    </tr>\n",
       "    <tr>\n",
       "      <th>2</th>\n",
       "      <td>18.0</td>\n",
       "      <td>8</td>\n",
       "      <td>318.0</td>\n",
       "      <td>150.0</td>\n",
       "      <td>3436.0</td>\n",
       "      <td>11.0</td>\n",
       "      <td>70</td>\n",
       "      <td>1</td>\n",
       "      <td>plymouth satellite</td>\n",
       "    </tr>\n",
       "    <tr>\n",
       "      <th>3</th>\n",
       "      <td>16.0</td>\n",
       "      <td>8</td>\n",
       "      <td>304.0</td>\n",
       "      <td>150.0</td>\n",
       "      <td>3433.0</td>\n",
       "      <td>12.0</td>\n",
       "      <td>70</td>\n",
       "      <td>1</td>\n",
       "      <td>amc rebel sst</td>\n",
       "    </tr>\n",
       "    <tr>\n",
       "      <th>4</th>\n",
       "      <td>17.0</td>\n",
       "      <td>8</td>\n",
       "      <td>302.0</td>\n",
       "      <td>140.0</td>\n",
       "      <td>3449.0</td>\n",
       "      <td>10.5</td>\n",
       "      <td>70</td>\n",
       "      <td>1</td>\n",
       "      <td>ford torino</td>\n",
       "    </tr>\n",
       "  </tbody>\n",
       "</table>\n",
       "</div>"
      ],
      "text/plain": [
       "    mpg  cylinders  displacement horsepower  weight  acceleration  model year  \\\n",
       "0  18.0          8         307.0      130.0  3504.0          12.0          70   \n",
       "1  15.0          8         350.0      165.0  3693.0          11.5          70   \n",
       "2  18.0          8         318.0      150.0  3436.0          11.0          70   \n",
       "3  16.0          8         304.0      150.0  3433.0          12.0          70   \n",
       "4  17.0          8         302.0      140.0  3449.0          10.5          70   \n",
       "\n",
       "   origin                   car name  \n",
       "0       1  chevrolet chevelle malibu  \n",
       "1       1          buick skylark 320  \n",
       "2       1         plymouth satellite  \n",
       "3       1              amc rebel sst  \n",
       "4       1                ford torino  "
      ]
     },
     "execution_count": 9,
     "metadata": {},
     "output_type": "execute_result"
    }
   ],
   "source": [
    "car_data.head()"
   ]
  },
  {
   "cell_type": "markdown",
   "id": "2beb6415-3070-4c0a-b372-9c1a6889b5cc",
   "metadata": {},
   "source": [
    "# Tìm hiểu"
   ]
  },
  {
   "cell_type": "markdown",
   "id": "ff51e428-2f81-4258-b8f7-90dc8e376faf",
   "metadata": {},
   "source": [
    "**Có 398 samples và 9 attributes**"
   ]
  },
  {
   "cell_type": "code",
   "execution_count": 29,
   "id": "ceea1588-d3fe-43e8-9373-cd43fc9945d5",
   "metadata": {},
   "outputs": [
    {
     "data": {
      "text/plain": [
       "(398, 9)"
      ]
     },
     "execution_count": 29,
     "metadata": {},
     "output_type": "execute_result"
    }
   ],
   "source": [
    "car_data.shape"
   ]
  },
  {
   "cell_type": "markdown",
   "id": "8ac90cbf-9f94-48eb-b0f4-930993b2aa61",
   "metadata": {},
   "source": [
    "**Có 3 công ty tất cả**"
   ]
  },
  {
   "cell_type": "code",
   "execution_count": 30,
   "id": "ac1ff2d6-44ce-4b25-89a4-b92e8e05aa65",
   "metadata": {},
   "outputs": [
    {
     "data": {
      "text/plain": [
       "[1, 3, 2]"
      ]
     },
     "execution_count": 30,
     "metadata": {},
     "output_type": "execute_result"
    }
   ],
   "source": [
    "car_data[\"origin\"].unique().tolist()"
   ]
  },
  {
   "cell_type": "markdown",
   "id": "f8f36126-84d8-487a-977d-f894e566e37e",
   "metadata": {},
   "source": [
    "**Xe có mpg cao nhất**"
   ]
  },
  {
   "cell_type": "code",
   "execution_count": 10,
   "id": "ad5159cc-3e3e-4f13-ba2e-5f8b7ddcffa7",
   "metadata": {},
   "outputs": [
    {
     "data": {
      "text/html": [
       "<div>\n",
       "<style scoped>\n",
       "    .dataframe tbody tr th:only-of-type {\n",
       "        vertical-align: middle;\n",
       "    }\n",
       "\n",
       "    .dataframe tbody tr th {\n",
       "        vertical-align: top;\n",
       "    }\n",
       "\n",
       "    .dataframe thead th {\n",
       "        text-align: right;\n",
       "    }\n",
       "</style>\n",
       "<table border=\"1\" class=\"dataframe\">\n",
       "  <thead>\n",
       "    <tr style=\"text-align: right;\">\n",
       "      <th></th>\n",
       "      <th>mpg</th>\n",
       "      <th>cylinders</th>\n",
       "      <th>displacement</th>\n",
       "      <th>horsepower</th>\n",
       "      <th>weight</th>\n",
       "      <th>acceleration</th>\n",
       "      <th>model year</th>\n",
       "      <th>origin</th>\n",
       "      <th>car name</th>\n",
       "    </tr>\n",
       "  </thead>\n",
       "  <tbody>\n",
       "    <tr>\n",
       "      <th>322</th>\n",
       "      <td>46.6</td>\n",
       "      <td>4</td>\n",
       "      <td>86.0</td>\n",
       "      <td>65.00</td>\n",
       "      <td>2110.0</td>\n",
       "      <td>17.9</td>\n",
       "      <td>80</td>\n",
       "      <td>3</td>\n",
       "      <td>mazda glc</td>\n",
       "    </tr>\n",
       "  </tbody>\n",
       "</table>\n",
       "</div>"
      ],
      "text/plain": [
       "      mpg  cylinders  displacement horsepower  weight  acceleration  \\\n",
       "322  46.6          4          86.0      65.00  2110.0          17.9   \n",
       "\n",
       "     model year  origin   car name  \n",
       "322          80       3  mazda glc  "
      ]
     },
     "execution_count": 10,
     "metadata": {},
     "output_type": "execute_result"
    }
   ],
   "source": [
    "car_data[car_data[\"mpg\"] == max(car_data[\"mpg\"])]  "
   ]
  },
  {
   "cell_type": "markdown",
   "id": "4a5ab9ba-91a5-4ce8-88d0-4393fe595972",
   "metadata": {},
   "source": [
    "**Chỉ có công ti 1 sản xuất xe có cylinders = 8**"
   ]
  },
  {
   "cell_type": "code",
   "execution_count": 48,
   "id": "c333322a-5811-41d7-9932-04821215f281",
   "metadata": {},
   "outputs": [
    {
     "data": {
      "text/plain": [
       "origin\n",
       "1    103\n",
       "dtype: int64"
      ]
     },
     "execution_count": 48,
     "metadata": {},
     "output_type": "execute_result"
    }
   ],
   "source": [
    "car_data.loc[car_data['cylinders'] == 8].groupby('origin').size()"
   ]
  },
  {
   "cell_type": "markdown",
   "id": "baac5361-4386-47f2-a08f-41af86ffb2b8",
   "metadata": {},
   "source": [
    "**Tên của xe có 3 cylinders**"
   ]
  },
  {
   "cell_type": "code",
   "execution_count": 50,
   "id": "6f129ee1-30ed-4e7a-8b17-f4e0b0aeb1fe",
   "metadata": {},
   "outputs": [
    {
     "data": {
      "text/plain": [
       "['mazda rx2 coupe', 'maxda rx3', 'mazda rx-4', 'mazda rx-7 gs']"
      ]
     },
     "execution_count": 50,
     "metadata": {},
     "output_type": "execute_result"
    }
   ],
   "source": [
    "car_data.loc[car_data['cylinders'] == 3]['car name'].tolist()"
   ]
  },
  {
   "cell_type": "markdown",
   "id": "6ad9c5b8-b123-4709-a09b-6feb7511b619",
   "metadata": {},
   "source": [
    "Do more work"
   ]
  },
  {
   "cell_type": "markdown",
   "id": "35945cf9-0f03-45af-bb33-4199394061aa",
   "metadata": {},
   "source": [
    "**Bảng mô tả các trường dữ liệu**"
   ]
  },
  {
   "cell_type": "code",
   "execution_count": 26,
   "id": "e2f5778d-aad6-4d60-8dff-dacf5b462505",
   "metadata": {},
   "outputs": [
    {
     "data": {
      "text/html": [
       "<div>\n",
       "<style scoped>\n",
       "    .dataframe tbody tr th:only-of-type {\n",
       "        vertical-align: middle;\n",
       "    }\n",
       "\n",
       "    .dataframe tbody tr th {\n",
       "        vertical-align: top;\n",
       "    }\n",
       "\n",
       "    .dataframe thead th {\n",
       "        text-align: right;\n",
       "    }\n",
       "</style>\n",
       "<table border=\"1\" class=\"dataframe\">\n",
       "  <thead>\n",
       "    <tr style=\"text-align: right;\">\n",
       "      <th></th>\n",
       "      <th>mpg</th>\n",
       "      <th>cylinders</th>\n",
       "      <th>displacement</th>\n",
       "      <th>horsepower</th>\n",
       "      <th>weight</th>\n",
       "      <th>acceleration</th>\n",
       "      <th>model year</th>\n",
       "      <th>origin</th>\n",
       "    </tr>\n",
       "  </thead>\n",
       "  <tbody>\n",
       "    <tr>\n",
       "      <th>count</th>\n",
       "      <td>398.00</td>\n",
       "      <td>398.00</td>\n",
       "      <td>398.00</td>\n",
       "      <td>398.00</td>\n",
       "      <td>398.00</td>\n",
       "      <td>398.00</td>\n",
       "      <td>398.00</td>\n",
       "      <td>398.00</td>\n",
       "    </tr>\n",
       "    <tr>\n",
       "      <th>mean</th>\n",
       "      <td>23.51</td>\n",
       "      <td>5.45</td>\n",
       "      <td>193.43</td>\n",
       "      <td>104.47</td>\n",
       "      <td>2970.42</td>\n",
       "      <td>15.57</td>\n",
       "      <td>76.01</td>\n",
       "      <td>1.57</td>\n",
       "    </tr>\n",
       "    <tr>\n",
       "      <th>std</th>\n",
       "      <td>7.82</td>\n",
       "      <td>1.70</td>\n",
       "      <td>104.27</td>\n",
       "      <td>38.20</td>\n",
       "      <td>846.84</td>\n",
       "      <td>2.76</td>\n",
       "      <td>3.70</td>\n",
       "      <td>0.80</td>\n",
       "    </tr>\n",
       "    <tr>\n",
       "      <th>min</th>\n",
       "      <td>9.00</td>\n",
       "      <td>3.00</td>\n",
       "      <td>68.00</td>\n",
       "      <td>46.00</td>\n",
       "      <td>1613.00</td>\n",
       "      <td>8.00</td>\n",
       "      <td>70.00</td>\n",
       "      <td>1.00</td>\n",
       "    </tr>\n",
       "    <tr>\n",
       "      <th>25%</th>\n",
       "      <td>17.50</td>\n",
       "      <td>4.00</td>\n",
       "      <td>104.25</td>\n",
       "      <td>76.00</td>\n",
       "      <td>2223.75</td>\n",
       "      <td>13.82</td>\n",
       "      <td>73.00</td>\n",
       "      <td>1.00</td>\n",
       "    </tr>\n",
       "    <tr>\n",
       "      <th>50%</th>\n",
       "      <td>23.00</td>\n",
       "      <td>4.00</td>\n",
       "      <td>148.50</td>\n",
       "      <td>95.00</td>\n",
       "      <td>2803.50</td>\n",
       "      <td>15.50</td>\n",
       "      <td>76.00</td>\n",
       "      <td>1.00</td>\n",
       "    </tr>\n",
       "    <tr>\n",
       "      <th>75%</th>\n",
       "      <td>29.00</td>\n",
       "      <td>8.00</td>\n",
       "      <td>262.00</td>\n",
       "      <td>125.00</td>\n",
       "      <td>3608.00</td>\n",
       "      <td>17.17</td>\n",
       "      <td>79.00</td>\n",
       "      <td>2.00</td>\n",
       "    </tr>\n",
       "    <tr>\n",
       "      <th>max</th>\n",
       "      <td>46.60</td>\n",
       "      <td>8.00</td>\n",
       "      <td>455.00</td>\n",
       "      <td>230.00</td>\n",
       "      <td>5140.00</td>\n",
       "      <td>24.80</td>\n",
       "      <td>82.00</td>\n",
       "      <td>3.00</td>\n",
       "    </tr>\n",
       "  </tbody>\n",
       "</table>\n",
       "</div>"
      ],
      "text/plain": [
       "          mpg  cylinders  displacement  horsepower   weight  acceleration  \\\n",
       "count  398.00     398.00        398.00      398.00   398.00        398.00   \n",
       "mean    23.51       5.45        193.43      104.47  2970.42         15.57   \n",
       "std      7.82       1.70        104.27       38.20   846.84          2.76   \n",
       "min      9.00       3.00         68.00       46.00  1613.00          8.00   \n",
       "25%     17.50       4.00        104.25       76.00  2223.75         13.82   \n",
       "50%     23.00       4.00        148.50       95.00  2803.50         15.50   \n",
       "75%     29.00       8.00        262.00      125.00  3608.00         17.17   \n",
       "max     46.60       8.00        455.00      230.00  5140.00         24.80   \n",
       "\n",
       "       model year  origin  \n",
       "count      398.00  398.00  \n",
       "mean        76.01    1.57  \n",
       "std          3.70    0.80  \n",
       "min         70.00    1.00  \n",
       "25%         73.00    1.00  \n",
       "50%         76.00    1.00  \n",
       "75%         79.00    2.00  \n",
       "max         82.00    3.00  "
      ]
     },
     "execution_count": 26,
     "metadata": {},
     "output_type": "execute_result"
    }
   ],
   "source": [
    "car_data.describe().round(2)"
   ]
  },
  {
   "cell_type": "code",
   "execution_count": 14,
   "id": "c5b68e1f-dd9f-46de-96f6-249d4f684371",
   "metadata": {},
   "outputs": [],
   "source": [
    "#car_data['horsepower'].loc[(car_data['horsepower'].isna())] = car_data[['horsepower']].loc[~(car_data['horsepower'].isna())]['horsepower'].astype('float64').mean()"
   ]
  },
  {
   "cell_type": "code",
   "execution_count": 51,
   "id": "7ce99986-5b63-4bd8-ae67-9f177b81ab33",
   "metadata": {},
   "outputs": [
    {
     "data": {
      "image/png": "[encoded data removed]",
      "text/plain": [
       "<Figure size 936x936 with 9 Axes>"
      ]
     },
     "metadata": {
      "needs_background": "light"
     },
     "output_type": "display_data"
    }
   ],
   "source": [
    "fig, axs = plt.subplots(3, 3, figsize=(13, 13))\n",
    "axs[0, 0].hist(car_data[\"mpg\"])\n",
    "axs[0, 0].set_xlabel('mpg')\n",
    "\n",
    "bins = np.arange(3,10) - 0.5\n",
    "axs[0, 1].hist(car_data[\"cylinders\"].astype('int64'),bins)\n",
    "axs[0, 1].set_xlabel('cylinders')\n",
    "\n",
    "axs[0, 2].hist(car_data[\"displacement\"].astype('int64'))\n",
    "axs[0, 2].set_xlabel('displacement')\n",
    "\n",
    "axs[1, 0].hist(car_data['horsepower'])\n",
    "axs[1, 0].set_xlabel('horsepower')\n",
    "\n",
    "axs[1, 1].hist(car_data['weight'])\n",
    "axs[1, 1].set_xlabel('weight')\n",
    "\n",
    "axs[1, 2].hist(car_data['acceleration'])\n",
    "axs[1, 2].set_xlabel('acceleration')\n",
    "\n",
    "axs[2, 0].hist(car_data['model year'])\n",
    "axs[2, 0].set_xlabel('model year')\n",
    "\n",
    "axs[2, 1].hist(car_data['origin'].astype('int64'))\n",
    "axs[2, 1].set_xlabel('origin')\n",
    "\n",
    "axs[2, 2].axis('off')\n",
    "plt.show()"
   ]
  },
  {
   "cell_type": "code",
   "execution_count": 16,
   "id": "2948c99e-1dae-4ce0-b669-8488c3c250a4",
   "metadata": {},
   "outputs": [
    {
     "data": {
      "image/png": "[encoded data removed]",
      "text/plain": [
       "<Figure size 1080x648 with 1 Axes>"
      ]
     },
     "metadata": {
      "needs_background": "light"
     },
     "output_type": "display_data"
    }
   ],
   "source": [
    "plt.figure(figsize = (15,9))\n",
    "plt.scatter('weight', 'mpg', data=car_data)\n",
    "plt.xlabel('weight')\n",
    "plt.ylabel('mpg')\n",
    "plt.grid()\n",
    "plt.show()"
   ]
  },
  {
   "cell_type": "code",
   "execution_count": 17,
   "id": "590f3b36-0dde-432b-9919-dce441fa6c5b",
   "metadata": {},
   "outputs": [
    {
     "data": {
      "image/png": "[encoded data removed]",
      "text/plain": [
       "<Figure size 432x288 with 1 Axes>"
      ]
     },
     "metadata": {
      "needs_background": "light"
     },
     "output_type": "display_data"
    }
   ],
   "source": [
    "plt.scatter('model year' , 'cylinders', data=car_data)\n",
    "plt.xlabel('model year')\n",
    "plt.ylabel('cylinders')\n",
    "plt.xticks(np.arange(min(car_data['model year']), max(car_data['model year'])+1, 1.0)) \n",
    "\n",
    "plt.show()"
   ]
  },
  {
   "cell_type": "code",
   "execution_count": 18,
   "id": "6fd6d19f-0c13-46fa-a2b9-4ffe5011e74e",
   "metadata": {},
   "outputs": [],
   "source": [
    "companies = car_data[['model year','origin','car name']]\n",
    "b = companies.groupby(['origin','model year']).agg('count')"
   ]
  },
  {
   "cell_type": "code",
   "execution_count": 19,
   "id": "213f465e-3170-4c9c-842e-ff67829780a2",
   "metadata": {},
   "outputs": [],
   "source": [
    "idx = b.index.levels\n",
    "c = len(idx[1])\n",
    "companies_years = pd.DataFrame(b.values.reshape(-1,c),index=idx[0].values, columns=idx[1].values)"
   ]
  },
  {
   "cell_type": "code",
   "execution_count": 20,
   "id": "afbb8849-3dff-4435-8d17-ee8b120795ef",
   "metadata": {},
   "outputs": [
    {
     "data": {
      "text/plain": [
       "Int64Index([1, 2, 3], dtype='int64')"
      ]
     },
     "execution_count": 20,
     "metadata": {},
     "output_type": "execute_result"
    }
   ],
   "source": [
    "companies_years.index"
   ]
  },
  {
   "cell_type": "code",
   "execution_count": 21,
   "id": "b5635d0f-3cb4-4407-8f74-51e60f67893d",
   "metadata": {},
   "outputs": [
    {
     "data": {
      "text/html": [
       "<div>\n",
       "<style scoped>\n",
       "    .dataframe tbody tr th:only-of-type {\n",
       "        vertical-align: middle;\n",
       "    }\n",
       "\n",
       "    .dataframe tbody tr th {\n",
       "        vertical-align: top;\n",
       "    }\n",
       "\n",
       "    .dataframe thead th {\n",
       "        text-align: right;\n",
       "    }\n",
       "</style>\n",
       "<table border=\"1\" class=\"dataframe\">\n",
       "  <thead>\n",
       "    <tr style=\"text-align: right;\">\n",
       "      <th></th>\n",
       "      <th>70</th>\n",
       "      <th>71</th>\n",
       "      <th>72</th>\n",
       "      <th>73</th>\n",
       "      <th>74</th>\n",
       "      <th>75</th>\n",
       "      <th>76</th>\n",
       "      <th>77</th>\n",
       "      <th>78</th>\n",
       "      <th>79</th>\n",
       "      <th>80</th>\n",
       "      <th>81</th>\n",
       "      <th>82</th>\n",
       "    </tr>\n",
       "  </thead>\n",
       "  <tbody>\n",
       "    <tr>\n",
       "      <th>1</th>\n",
       "      <td>22</td>\n",
       "      <td>20</td>\n",
       "      <td>18</td>\n",
       "      <td>29</td>\n",
       "      <td>15</td>\n",
       "      <td>20</td>\n",
       "      <td>22</td>\n",
       "      <td>18</td>\n",
       "      <td>22</td>\n",
       "      <td>23</td>\n",
       "      <td>7</td>\n",
       "      <td>13</td>\n",
       "      <td>20</td>\n",
       "    </tr>\n",
       "  </tbody>\n",
       "</table>\n",
       "</div>"
      ],
      "text/plain": [
       "   70  71  72  73  74  75  76  77  78  79  80  81  82\n",
       "1  22  20  18  29  15  20  22  18  22  23   7  13  20"
      ]
     },
     "execution_count": 21,
     "metadata": {},
     "output_type": "execute_result"
    }
   ],
   "source": [
    "companies_years.iloc[[0]]"
   ]
  },
  {
   "cell_type": "code",
   "execution_count": 22,
   "id": "a87b0679-dcf2-4cf1-b7be-47d896d2fd32",
   "metadata": {},
   "outputs": [
    {
     "data": {
      "text/plain": [
       "array([70, 71, 72, 73, 74, 75, 76, 77, 78, 79, 80, 81, 82], dtype=int64)"
      ]
     },
     "execution_count": 22,
     "metadata": {},
     "output_type": "execute_result"
    }
   ],
   "source": [
    "np.arange(min(companies_years.columns.values), max(companies_years.columns.values)+1, 1)"
   ]
  },
  {
   "cell_type": "code",
   "execution_count": 23,
   "id": "badfef51-bc3b-4dc5-b9d5-f4ea78eb1c44",
   "metadata": {},
   "outputs": [
    {
     "data": {
      "image/png": "[encoded data removed]",
      "text/plain": [
       "<Figure size 1080x648 with 1 Axes>"
      ]
     },
     "metadata": {
      "needs_background": "light"
     },
     "output_type": "display_data"
    }
   ],
   "source": [
    "plt.figure(figsize = (15,9))\n",
    "sign = ['r-s','g-o', 'D-']\n",
    "plt.grid()\n",
    "plt.xticks(np.arange(min(companies_years.columns.values), max(companies_years.columns.values)+1, 1))\n",
    "for i in range(3):\n",
    "    plt.plot(companies_years.columns.values,companies_years.iloc[i],sign[i], label = i+1)\n",
    "plt.legend(loc='best')\n",
    "plt.ylabel(\"Count\")\n",
    "plt.xlabel(\"Year\")\n",
    "plt.show()"
   ]
  },
  {
   "cell_type": "code",
   "execution_count": 24,
   "id": "37726832-2d48-40fb-960e-8e40be060d5c",
   "metadata": {},
   "outputs": [
    {
     "data": {
      "image/png": "[encoded data removed]",
      "text/plain": [
       "<Figure size 648x648 with 2 Axes>"
      ]
     },
     "metadata": {
      "needs_background": "light"
     },
     "output_type": "display_data"
    }
   ],
   "source": [
    "plt.figure(figsize = (9,9))\n",
    "plt.imshow(car_data.corr(), cmap='gist_heat')\n",
    "car_corr = car_data.drop('car name',axis = 1)\n",
    "plt.colorbar()\n",
    "plt.xticks(range(len(car_corr.columns)),car_corr.columns,rotation='vertical')\n",
    "plt.yticks(range(len(car_corr.columns)),car_corr.columns)\n",
    "plt.show()"
   ]
  },
  {
   "cell_type": "code",
   "execution_count": 25,
   "id": "01aad760-35a5-4cbe-864a-060639ebe5be",
   "metadata": {},
   "outputs": [
    {
     "data": {
      "text/html": [
       "<div>\n",
       "<style scoped>\n",
       "    .dataframe tbody tr th:only-of-type {\n",
       "        vertical-align: middle;\n",
       "    }\n",
       "\n",
       "    .dataframe tbody tr th {\n",
       "        vertical-align: top;\n",
       "    }\n",
       "\n",
       "    .dataframe thead th {\n",
       "        text-align: right;\n",
       "    }\n",
       "</style>\n",
       "<table border=\"1\" class=\"dataframe\">\n",
       "  <thead>\n",
       "    <tr style=\"text-align: right;\">\n",
       "      <th></th>\n",
       "      <th>mpg</th>\n",
       "      <th>cylinders</th>\n",
       "      <th>displacement</th>\n",
       "      <th>horsepower</th>\n",
       "      <th>weight</th>\n",
       "      <th>acceleration</th>\n",
       "      <th>model year</th>\n",
       "      <th>origin</th>\n",
       "    </tr>\n",
       "  </thead>\n",
       "  <tbody>\n",
       "    <tr>\n",
       "      <th>mpg</th>\n",
       "      <td>1.000000</td>\n",
       "      <td>-0.775396</td>\n",
       "      <td>-0.804203</td>\n",
       "      <td>-0.771437</td>\n",
       "      <td>-0.831741</td>\n",
       "      <td>0.420289</td>\n",
       "      <td>0.579267</td>\n",
       "      <td>0.563450</td>\n",
       "    </tr>\n",
       "    <tr>\n",
       "      <th>cylinders</th>\n",
       "      <td>-0.775396</td>\n",
       "      <td>1.000000</td>\n",
       "      <td>0.950721</td>\n",
       "      <td>0.838939</td>\n",
       "      <td>0.896017</td>\n",
       "      <td>-0.505419</td>\n",
       "      <td>-0.348746</td>\n",
       "      <td>-0.562543</td>\n",
       "    </tr>\n",
       "    <tr>\n",
       "      <th>displacement</th>\n",
       "      <td>-0.804203</td>\n",
       "      <td>0.950721</td>\n",
       "      <td>1.000000</td>\n",
       "      <td>0.893646</td>\n",
       "      <td>0.932824</td>\n",
       "      <td>-0.543684</td>\n",
       "      <td>-0.370164</td>\n",
       "      <td>-0.609409</td>\n",
       "    </tr>\n",
       "    <tr>\n",
       "      <th>horsepower</th>\n",
       "      <td>-0.771437</td>\n",
       "      <td>0.838939</td>\n",
       "      <td>0.893646</td>\n",
       "      <td>1.000000</td>\n",
       "      <td>0.860574</td>\n",
       "      <td>-0.684259</td>\n",
       "      <td>-0.411651</td>\n",
       "      <td>-0.453669</td>\n",
       "    </tr>\n",
       "    <tr>\n",
       "      <th>weight</th>\n",
       "      <td>-0.831741</td>\n",
       "      <td>0.896017</td>\n",
       "      <td>0.932824</td>\n",
       "      <td>0.860574</td>\n",
       "      <td>1.000000</td>\n",
       "      <td>-0.417457</td>\n",
       "      <td>-0.306564</td>\n",
       "      <td>-0.581024</td>\n",
       "    </tr>\n",
       "    <tr>\n",
       "      <th>acceleration</th>\n",
       "      <td>0.420289</td>\n",
       "      <td>-0.505419</td>\n",
       "      <td>-0.543684</td>\n",
       "      <td>-0.684259</td>\n",
       "      <td>-0.417457</td>\n",
       "      <td>1.000000</td>\n",
       "      <td>0.288137</td>\n",
       "      <td>0.205873</td>\n",
       "    </tr>\n",
       "    <tr>\n",
       "      <th>model year</th>\n",
       "      <td>0.579267</td>\n",
       "      <td>-0.348746</td>\n",
       "      <td>-0.370164</td>\n",
       "      <td>-0.411651</td>\n",
       "      <td>-0.306564</td>\n",
       "      <td>0.288137</td>\n",
       "      <td>1.000000</td>\n",
       "      <td>0.180662</td>\n",
       "    </tr>\n",
       "    <tr>\n",
       "      <th>origin</th>\n",
       "      <td>0.563450</td>\n",
       "      <td>-0.562543</td>\n",
       "      <td>-0.609409</td>\n",
       "      <td>-0.453669</td>\n",
       "      <td>-0.581024</td>\n",
       "      <td>0.205873</td>\n",
       "      <td>0.180662</td>\n",
       "      <td>1.000000</td>\n",
       "    </tr>\n",
       "  </tbody>\n",
       "</table>\n",
       "</div>"
      ],
      "text/plain": [
       "                   mpg  cylinders  displacement  horsepower    weight  \\\n",
       "mpg           1.000000  -0.775396     -0.804203   -0.771437 -0.831741   \n",
       "cylinders    -0.775396   1.000000      0.950721    0.838939  0.896017   \n",
       "displacement -0.804203   0.950721      1.000000    0.893646  0.932824   \n",
       "horsepower   -0.771437   0.838939      0.893646    1.000000  0.860574   \n",
       "weight       -0.831741   0.896017      0.932824    0.860574  1.000000   \n",
       "acceleration  0.420289  -0.505419     -0.543684   -0.684259 -0.417457   \n",
       "model year    0.579267  -0.348746     -0.370164   -0.411651 -0.306564   \n",
       "origin        0.563450  -0.562543     -0.609409   -0.453669 -0.581024   \n",
       "\n",
       "              acceleration  model year    origin  \n",
       "mpg               0.420289    0.579267  0.563450  \n",
       "cylinders        -0.505419   -0.348746 -0.562543  \n",
       "displacement     -0.543684   -0.370164 -0.609409  \n",
       "horsepower       -0.684259   -0.411651 -0.453669  \n",
       "weight           -0.417457   -0.306564 -0.581024  \n",
       "acceleration      1.000000    0.288137  0.205873  \n",
       "model year        0.288137    1.000000  0.180662  \n",
       "origin            0.205873    0.180662  1.000000  "
      ]
     },
     "execution_count": 25,
     "metadata": {},
     "output_type": "execute_result"
    }
   ],
   "source": [
    "car_data.corr()"
   ]
  }
 ],
 "metadata": {
  "kernelspec": {
   "display_name": "Python 3",
   "language": "python",
   "name": "python3"
  },
  "language_info": {
   "codemirror_mode": {
    "name": "ipython",
    "version": 3
   },
   "file_extension": ".py",
   "mimetype": "text/x-python",
   "name": "python",
   "nbconvert_exporter": "python",
   "pygments_lexer": "ipython3",
   "version": "3.8.3"
  }
 },
 "nbformat": 4,
 "nbformat_minor": 5
}
