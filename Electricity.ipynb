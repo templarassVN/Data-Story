{
 "cells": [
  {
   "cell_type": "code",
   "execution_count": 1,
   "id": "bf3b0529-78c2-4dc3-8bba-c32d2a6e0419",
   "metadata": {},
   "outputs": [],
   "source": [
    "import numpy as np\n",
    "import pandas as pd\n",
    "import matplotlib.pyplot as plt"
   ]
  },
  {
   "cell_type": "markdown",
   "id": "6b475478-ff5e-47f5-b831-5fe16ec04e98",
   "metadata": {},
   "source": [
    "Đọc dữ liệu trong 2 ngày: 1/2/2007 - 2/2/2007"
   ]
  },
  {
   "cell_type": "code",
   "execution_count": 2,
   "id": "5318baee-6e22-47de-b1d3-0ae760015064",
   "metadata": {},
   "outputs": [
    {
     "data": {
      "text/plain": [
       "'\\ndict_dtypes = {\\n    \"Date\" : \"object\",\\n    \"Time\": \"object\",\\n    \"Global_active_power\": \"object\",\\n    \"Global_reactive_power\": \"object\",\\n    \"Voltage\": \"object\",\\n    \"Global_intensity\": \"object\",\\n    \"Sub_metering_1\": \"object\",\\n    \"Sub_metering_2\": \"object\",\\n    \"Sub_metering_3\": \"object\"\\n}\\n\\nelectric_df = pd.read_csv(\\'household_power_consumption.txt\\',sep = \\';\\',dtype = dict_dtypes)\\nelectric_df.Date = pd.to_datetime(electric_df.Date, format = \\'%d/%m/%Y\\')\\n\\nelectric_df.loc[(electric_df.Date >= \\'2007-2-1\\')&(electric_df.Date <= \\'2007-2-2\\'),:].reset_index().drop(\\'index\\',axis = 1).to_csv(\\'electric.csv\\', index = False)\\n'"
      ]
     },
     "execution_count": 2,
     "metadata": {},
     "output_type": "execute_result"
    }
   ],
   "source": [
    "'''\n",
    "dict_dtypes = {\n",
    "    \"Date\" : \"object\",\n",
    "    \"Time\": \"object\",\n",
    "    \"Global_active_power\": \"object\",\n",
    "    \"Global_reactive_power\": \"object\",\n",
    "    \"Voltage\": \"object\",\n",
    "    \"Global_intensity\": \"object\",\n",
    "    \"Sub_metering_1\": \"object\",\n",
    "    \"Sub_metering_2\": \"object\",\n",
    "    \"Sub_metering_3\": \"object\"\n",
    "}\n",
    "\n",
    "electric_df = pd.read_csv('household_power_consumption.txt',sep = ';',dtype = dict_dtypes)\n",
    "electric_df.Date = pd.to_datetime(electric_df.Date, format = '%d/%m/%Y')\n",
    "\n",
    "electric_df.loc[(electric_df.Date >= '2007-2-1')&(electric_df.Date <= '2007-2-2'),:].reset_index().drop('index',axis = 1).to_csv('electric.csv', index = False)\n",
    "'''"
   ]
  },
  {
   "cell_type": "code",
   "execution_count": 3,
   "id": "e7ad3d8e-52c5-4b83-90be-8185c4baa3c1",
   "metadata": {},
   "outputs": [
    {
     "data": {
      "text/html": [
       "<div>\n",
       "<style scoped>\n",
       "    .dataframe tbody tr th:only-of-type {\n",
       "        vertical-align: middle;\n",
       "    }\n",
       "\n",
       "    .dataframe tbody tr th {\n",
       "        vertical-align: top;\n",
       "    }\n",
       "\n",
       "    .dataframe thead th {\n",
       "        text-align: right;\n",
       "    }\n",
       "</style>\n",
       "<table border=\"1\" class=\"dataframe\">\n",
       "  <thead>\n",
       "    <tr style=\"text-align: right;\">\n",
       "      <th></th>\n",
       "      <th>Date</th>\n",
       "      <th>Time</th>\n",
       "      <th>Global_active_power</th>\n",
       "      <th>Global_reactive_power</th>\n",
       "      <th>Voltage</th>\n",
       "      <th>Global_intensity</th>\n",
       "      <th>Sub_metering_1</th>\n",
       "      <th>Sub_metering_2</th>\n",
       "      <th>Sub_metering_3</th>\n",
       "    </tr>\n",
       "  </thead>\n",
       "  <tbody>\n",
       "    <tr>\n",
       "      <th>0</th>\n",
       "      <td>2007-02-01</td>\n",
       "      <td>00:00:00</td>\n",
       "      <td>0.326</td>\n",
       "      <td>0.128</td>\n",
       "      <td>243.15</td>\n",
       "      <td>1.4</td>\n",
       "      <td>0.0</td>\n",
       "      <td>0.0</td>\n",
       "      <td>0.0</td>\n",
       "    </tr>\n",
       "    <tr>\n",
       "      <th>1</th>\n",
       "      <td>2007-02-01</td>\n",
       "      <td>00:01:00</td>\n",
       "      <td>0.326</td>\n",
       "      <td>0.130</td>\n",
       "      <td>243.32</td>\n",
       "      <td>1.4</td>\n",
       "      <td>0.0</td>\n",
       "      <td>0.0</td>\n",
       "      <td>0.0</td>\n",
       "    </tr>\n",
       "    <tr>\n",
       "      <th>2</th>\n",
       "      <td>2007-02-01</td>\n",
       "      <td>00:02:00</td>\n",
       "      <td>0.324</td>\n",
       "      <td>0.132</td>\n",
       "      <td>243.51</td>\n",
       "      <td>1.4</td>\n",
       "      <td>0.0</td>\n",
       "      <td>0.0</td>\n",
       "      <td>0.0</td>\n",
       "    </tr>\n",
       "    <tr>\n",
       "      <th>3</th>\n",
       "      <td>2007-02-01</td>\n",
       "      <td>00:03:00</td>\n",
       "      <td>0.324</td>\n",
       "      <td>0.134</td>\n",
       "      <td>243.90</td>\n",
       "      <td>1.4</td>\n",
       "      <td>0.0</td>\n",
       "      <td>0.0</td>\n",
       "      <td>0.0</td>\n",
       "    </tr>\n",
       "    <tr>\n",
       "      <th>4</th>\n",
       "      <td>2007-02-01</td>\n",
       "      <td>00:04:00</td>\n",
       "      <td>0.322</td>\n",
       "      <td>0.130</td>\n",
       "      <td>243.16</td>\n",
       "      <td>1.4</td>\n",
       "      <td>0.0</td>\n",
       "      <td>0.0</td>\n",
       "      <td>0.0</td>\n",
       "    </tr>\n",
       "    <tr>\n",
       "      <th>...</th>\n",
       "      <td>...</td>\n",
       "      <td>...</td>\n",
       "      <td>...</td>\n",
       "      <td>...</td>\n",
       "      <td>...</td>\n",
       "      <td>...</td>\n",
       "      <td>...</td>\n",
       "      <td>...</td>\n",
       "      <td>...</td>\n",
       "    </tr>\n",
       "    <tr>\n",
       "      <th>2875</th>\n",
       "      <td>2007-02-02</td>\n",
       "      <td>23:55:00</td>\n",
       "      <td>3.696</td>\n",
       "      <td>0.226</td>\n",
       "      <td>240.90</td>\n",
       "      <td>15.2</td>\n",
       "      <td>0.0</td>\n",
       "      <td>1.0</td>\n",
       "      <td>18.0</td>\n",
       "    </tr>\n",
       "    <tr>\n",
       "      <th>2876</th>\n",
       "      <td>2007-02-02</td>\n",
       "      <td>23:56:00</td>\n",
       "      <td>3.698</td>\n",
       "      <td>0.226</td>\n",
       "      <td>241.02</td>\n",
       "      <td>15.2</td>\n",
       "      <td>0.0</td>\n",
       "      <td>2.0</td>\n",
       "      <td>18.0</td>\n",
       "    </tr>\n",
       "    <tr>\n",
       "      <th>2877</th>\n",
       "      <td>2007-02-02</td>\n",
       "      <td>23:57:00</td>\n",
       "      <td>3.684</td>\n",
       "      <td>0.224</td>\n",
       "      <td>240.48</td>\n",
       "      <td>15.2</td>\n",
       "      <td>0.0</td>\n",
       "      <td>1.0</td>\n",
       "      <td>18.0</td>\n",
       "    </tr>\n",
       "    <tr>\n",
       "      <th>2878</th>\n",
       "      <td>2007-02-02</td>\n",
       "      <td>23:58:00</td>\n",
       "      <td>3.658</td>\n",
       "      <td>0.220</td>\n",
       "      <td>239.61</td>\n",
       "      <td>15.2</td>\n",
       "      <td>0.0</td>\n",
       "      <td>1.0</td>\n",
       "      <td>17.0</td>\n",
       "    </tr>\n",
       "    <tr>\n",
       "      <th>2879</th>\n",
       "      <td>2007-02-02</td>\n",
       "      <td>23:59:00</td>\n",
       "      <td>3.680</td>\n",
       "      <td>0.224</td>\n",
       "      <td>240.37</td>\n",
       "      <td>15.2</td>\n",
       "      <td>0.0</td>\n",
       "      <td>2.0</td>\n",
       "      <td>18.0</td>\n",
       "    </tr>\n",
       "  </tbody>\n",
       "</table>\n",
       "<p>2880 rows × 9 columns</p>\n",
       "</div>"
      ],
      "text/plain": [
       "            Date      Time  Global_active_power  Global_reactive_power  \\\n",
       "0     2007-02-01  00:00:00                0.326                  0.128   \n",
       "1     2007-02-01  00:01:00                0.326                  0.130   \n",
       "2     2007-02-01  00:02:00                0.324                  0.132   \n",
       "3     2007-02-01  00:03:00                0.324                  0.134   \n",
       "4     2007-02-01  00:04:00                0.322                  0.130   \n",
       "...          ...       ...                  ...                    ...   \n",
       "2875  2007-02-02  23:55:00                3.696                  0.226   \n",
       "2876  2007-02-02  23:56:00                3.698                  0.226   \n",
       "2877  2007-02-02  23:57:00                3.684                  0.224   \n",
       "2878  2007-02-02  23:58:00                3.658                  0.220   \n",
       "2879  2007-02-02  23:59:00                3.680                  0.224   \n",
       "\n",
       "      Voltage  Global_intensity  Sub_metering_1  Sub_metering_2  \\\n",
       "0      243.15               1.4             0.0             0.0   \n",
       "1      243.32               1.4             0.0             0.0   \n",
       "2      243.51               1.4             0.0             0.0   \n",
       "3      243.90               1.4             0.0             0.0   \n",
       "4      243.16               1.4             0.0             0.0   \n",
       "...       ...               ...             ...             ...   \n",
       "2875   240.90              15.2             0.0             1.0   \n",
       "2876   241.02              15.2             0.0             2.0   \n",
       "2877   240.48              15.2             0.0             1.0   \n",
       "2878   239.61              15.2             0.0             1.0   \n",
       "2879   240.37              15.2             0.0             2.0   \n",
       "\n",
       "      Sub_metering_3  \n",
       "0                0.0  \n",
       "1                0.0  \n",
       "2                0.0  \n",
       "3                0.0  \n",
       "4                0.0  \n",
       "...              ...  \n",
       "2875            18.0  \n",
       "2876            18.0  \n",
       "2877            18.0  \n",
       "2878            17.0  \n",
       "2879            18.0  \n",
       "\n",
       "[2880 rows x 9 columns]"
      ]
     },
     "execution_count": 3,
     "metadata": {},
     "output_type": "execute_result"
    }
   ],
   "source": [
    "electric_df = pd.read_csv('electric.csv')\n",
    "electric_df"
   ]
  },
  {
   "cell_type": "code",
   "execution_count": 4,
   "id": "527fd28d-3bd6-4fa1-9e6e-01f5acc39ad8",
   "metadata": {},
   "outputs": [
    {
     "data": {
      "text/plain": [
       "Date                      object\n",
       "Time                      object\n",
       "Global_active_power      float64\n",
       "Global_reactive_power    float64\n",
       "Voltage                  float64\n",
       "Global_intensity         float64\n",
       "Sub_metering_1           float64\n",
       "Sub_metering_2           float64\n",
       "Sub_metering_3           float64\n",
       "dtype: object"
      ]
     },
     "execution_count": 4,
     "metadata": {},
     "output_type": "execute_result"
    }
   ],
   "source": [
    "electric_df.dtypes"
   ]
  },
  {
   "cell_type": "markdown",
   "id": "0ab8ec8f-6d2c-4ba9-a00e-c8a3f44f46b4",
   "metadata": {},
   "source": [
    "Convert thành float được, tức là ko có dữ liệu '?' ở mấy cột này"
   ]
  },
  {
   "cell_type": "code",
   "execution_count": 5,
   "id": "1c2dc207-2ea7-45a2-a0da-82a176ab5346",
   "metadata": {},
   "outputs": [
    {
     "data": {
      "text/plain": [
       "Date                     0\n",
       "Time                     0\n",
       "Global_active_power      0\n",
       "Global_reactive_power    0\n",
       "Voltage                  0\n",
       "Global_intensity         0\n",
       "Sub_metering_1           0\n",
       "Sub_metering_2           0\n",
       "Sub_metering_3           0\n",
       "dtype: int64"
      ]
     },
     "execution_count": 5,
     "metadata": {},
     "output_type": "execute_result"
    }
   ],
   "source": [
    "electric_df.isna().sum()"
   ]
  },
  {
   "cell_type": "code",
   "execution_count": 6,
   "id": "e8210c30-ad2b-4dd9-82a1-ee34db684d26",
   "metadata": {},
   "outputs": [
    {
     "data": {
      "text/plain": [
       "False"
      ]
     },
     "execution_count": 6,
     "metadata": {},
     "output_type": "execute_result"
    }
   ],
   "source": [
    "(electric_df.loc[:,'Time'] == '?').any()"
   ]
  },
  {
   "cell_type": "code",
   "execution_count": 16,
   "id": "23447f6d-9387-433d-8270-6d7138233654",
   "metadata": {},
   "outputs": [
    {
     "data": {
      "text/plain": [
       "False"
      ]
     },
     "execution_count": 16,
     "metadata": {},
     "output_type": "execute_result"
    }
   ],
   "source": [
    "(electric_df.loc[:,'Date'] == '?').any()"
   ]
  },
  {
   "cell_type": "code",
   "execution_count": 12,
   "id": "cfd11ec1-eb13-449b-9f74-78c9c80d8874",
   "metadata": {},
   "outputs": [],
   "source": [
    "electric_df.Time = pd.to_datetime(electric_df.Time, format = '%H:%M:%S').dt.time\n",
    "electric_df.Date = pd.to_datetime(electric_df.Date, format = '%Y-%m-%d')"
   ]
  },
  {
   "cell_type": "code",
   "execution_count": 13,
   "id": "b5703752-acfc-449d-86ea-b9b718c59a5d",
   "metadata": {},
   "outputs": [],
   "source": [
    "electric_df.Date = pd.to_datetime(electric_df.Date, format = '%Y-%m-%d')"
   ]
  },
  {
   "cell_type": "code",
   "execution_count": 14,
   "id": "1da20cd5-655b-4177-8638-121d085e7399",
   "metadata": {},
   "outputs": [
    {
     "data": {
      "text/plain": [
       "Date                     datetime64[ns]\n",
       "Time                             object\n",
       "Global_active_power             float64\n",
       "Global_reactive_power           float64\n",
       "Voltage                         float64\n",
       "Global_intensity                float64\n",
       "Sub_metering_1                  float64\n",
       "Sub_metering_2                  float64\n",
       "Sub_metering_3                  float64\n",
       "dtype: object"
      ]
     },
     "execution_count": 14,
     "metadata": {},
     "output_type": "execute_result"
    }
   ],
   "source": [
    "electric_df.dtypes"
   ]
  },
  {
   "cell_type": "code",
   "execution_count": 15,
   "id": "4036bcba-5459-4573-86b0-67e8ed0a6769",
   "metadata": {},
   "outputs": [
    {
     "data": {
      "text/html": [
       "<div>\n",
       "<style scoped>\n",
       "    .dataframe tbody tr th:only-of-type {\n",
       "        vertical-align: middle;\n",
       "    }\n",
       "\n",
       "    .dataframe tbody tr th {\n",
       "        vertical-align: top;\n",
       "    }\n",
       "\n",
       "    .dataframe thead th {\n",
       "        text-align: right;\n",
       "    }\n",
       "</style>\n",
       "<table border=\"1\" class=\"dataframe\">\n",
       "  <thead>\n",
       "    <tr style=\"text-align: right;\">\n",
       "      <th></th>\n",
       "      <th>Date</th>\n",
       "      <th>Time</th>\n",
       "      <th>Global_active_power</th>\n",
       "      <th>Global_reactive_power</th>\n",
       "      <th>Voltage</th>\n",
       "      <th>Global_intensity</th>\n",
       "      <th>Sub_metering_1</th>\n",
       "      <th>Sub_metering_2</th>\n",
       "      <th>Sub_metering_3</th>\n",
       "    </tr>\n",
       "  </thead>\n",
       "  <tbody>\n",
       "    <tr>\n",
       "      <th>0</th>\n",
       "      <td>2007-02-01</td>\n",
       "      <td>00:00:00</td>\n",
       "      <td>0.326</td>\n",
       "      <td>0.128</td>\n",
       "      <td>243.15</td>\n",
       "      <td>1.4</td>\n",
       "      <td>0.0</td>\n",
       "      <td>0.0</td>\n",
       "      <td>0.0</td>\n",
       "    </tr>\n",
       "    <tr>\n",
       "      <th>1</th>\n",
       "      <td>2007-02-01</td>\n",
       "      <td>00:01:00</td>\n",
       "      <td>0.326</td>\n",
       "      <td>0.130</td>\n",
       "      <td>243.32</td>\n",
       "      <td>1.4</td>\n",
       "      <td>0.0</td>\n",
       "      <td>0.0</td>\n",
       "      <td>0.0</td>\n",
       "    </tr>\n",
       "    <tr>\n",
       "      <th>2</th>\n",
       "      <td>2007-02-01</td>\n",
       "      <td>00:02:00</td>\n",
       "      <td>0.324</td>\n",
       "      <td>0.132</td>\n",
       "      <td>243.51</td>\n",
       "      <td>1.4</td>\n",
       "      <td>0.0</td>\n",
       "      <td>0.0</td>\n",
       "      <td>0.0</td>\n",
       "    </tr>\n",
       "    <tr>\n",
       "      <th>3</th>\n",
       "      <td>2007-02-01</td>\n",
       "      <td>00:03:00</td>\n",
       "      <td>0.324</td>\n",
       "      <td>0.134</td>\n",
       "      <td>243.90</td>\n",
       "      <td>1.4</td>\n",
       "      <td>0.0</td>\n",
       "      <td>0.0</td>\n",
       "      <td>0.0</td>\n",
       "    </tr>\n",
       "    <tr>\n",
       "      <th>4</th>\n",
       "      <td>2007-02-01</td>\n",
       "      <td>00:04:00</td>\n",
       "      <td>0.322</td>\n",
       "      <td>0.130</td>\n",
       "      <td>243.16</td>\n",
       "      <td>1.4</td>\n",
       "      <td>0.0</td>\n",
       "      <td>0.0</td>\n",
       "      <td>0.0</td>\n",
       "    </tr>\n",
       "  </tbody>\n",
       "</table>\n",
       "</div>"
      ],
      "text/plain": [
       "        Date      Time  Global_active_power  Global_reactive_power  Voltage  \\\n",
       "0 2007-02-01  00:00:00                0.326                  0.128   243.15   \n",
       "1 2007-02-01  00:01:00                0.326                  0.130   243.32   \n",
       "2 2007-02-01  00:02:00                0.324                  0.132   243.51   \n",
       "3 2007-02-01  00:03:00                0.324                  0.134   243.90   \n",
       "4 2007-02-01  00:04:00                0.322                  0.130   243.16   \n",
       "\n",
       "   Global_intensity  Sub_metering_1  Sub_metering_2  Sub_metering_3  \n",
       "0               1.4             0.0             0.0             0.0  \n",
       "1               1.4             0.0             0.0             0.0  \n",
       "2               1.4             0.0             0.0             0.0  \n",
       "3               1.4             0.0             0.0             0.0  \n",
       "4               1.4             0.0             0.0             0.0  "
      ]
     },
     "execution_count": 15,
     "metadata": {},
     "output_type": "execute_result"
    }
   ],
   "source": [
    "electric_df.head()"
   ]
  },
  {
   "cell_type": "code",
   "execution_count": null,
   "id": "226520c0-51e9-489c-a4b4-fbcbfc7ea2db",
   "metadata": {},
   "outputs": [],
   "source": []
  }
 ],
 "metadata": {
  "kernelspec": {
   "display_name": "Python 3",
   "language": "python",
   "name": "python3"
  },
  "language_info": {
   "codemirror_mode": {
    "name": "ipython",
    "version": 3
   },
   "file_extension": ".py",
   "mimetype": "text/x-python",
   "name": "python",
   "nbconvert_exporter": "python",
   "pygments_lexer": "ipython3",
   "version": "3.8.3"
  }
 },
 "nbformat": 4,
 "nbformat_minor": 5
}
